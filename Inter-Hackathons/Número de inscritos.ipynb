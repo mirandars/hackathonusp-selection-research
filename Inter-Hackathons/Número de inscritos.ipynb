{
 "cells": [
  {
   "cell_type": "markdown",
   "metadata": {},
   "source": [
    "# Número de inscritos por edição\n",
    "\n",
    "Neste Notebook, vamos analisar como o número de inscritos em cada edição do HackathonUSP varia entre edições."
   ]
  },
  {
   "cell_type": "code",
   "execution_count": 1,
   "metadata": {},
   "outputs": [],
   "source": [
    "# Importanto bibliotecas necessárias\n",
    "import numpy as np\n",
    "import matplotlib.pyplot as plt\n",
    "import pandas as pd"
   ]
  },
  {
   "cell_type": "code",
   "execution_count": 24,
   "metadata": {},
   "outputs": [],
   "source": [
    "subs_2016_1 = pd.read_csv('./2016.1/2016.1 - Inscritos.csv', sep=';')\n",
    "subs_2016_2 = pd.read_csv('./2016.2/2016.2 - Inscritos.csv', sep=';')\n",
    "subs_2017_1 = pd.read_csv('./2017.1/2017.1 - Inscritos.csv', sep=';')\n",
    "subs_2017_2 = pd.read_csv('./2017.2/2017.2 - Inscritos.csv', sep=';')\n",
    "subs_2018_1 = pd.read_csv('./2018.1/2018.1 - Inscritos.csv', sep=';')"
   ]
  },
  {
   "cell_type": "markdown",
   "metadata": {},
   "source": [
    "Como cada inscrito foi identificado por um ID único dentro de cada planilha, fica mais fácil determinar o número de inscritos apenas com os dados dessa coluna."
   ]
  },
  {
   "cell_type": "code",
   "execution_count": 27,
   "metadata": {},
   "outputs": [],
   "source": [
    "subs_num_2016_1 = subs_2016_1.max()[1]\n",
    "subs_num_2016_2 = subs_2016_2.max()[1]\n",
    "subs_num_2017_1 = subs_2017_1.max()[0]\n",
    "subs_num_2017_2 = subs_2017_2.max()[1]\n",
    "subs_num_2018_1 = subs_2018_1.max()[1]\n",
    "\n",
    "X_axys = ['2016.1', '2016.2', '2017.1', '2017.2', '2018.1']\n",
    "Y_axys = [subs_num_2016_1, subs_num_2016_2, subs_num_2017_1, subs_num_2017_2, subs_num_2018_1]"
   ]
  },
  {
   "cell_type": "code",
   "execution_count": 43,
   "metadata": {},
   "outputs": [
    {
     "name": "stdout",
     "output_type": "stream",
     "text": [
      "Número de inscritos por edição\n",
      "------------------------------\n",
      "| 2016.1: 550\n",
      "| 2016.2: 102\n",
      "| 2017.1: 122\n",
      "| 2017.2: 165\n",
      "| 2018.1: 365\n"
     ]
    },
    {
     "data": {
      "text/plain": [
       "<BarContainer object of 5 artists>"
      ]
     },
     "execution_count": 43,
     "metadata": {},
     "output_type": "execute_result"
    },
    {
     "data": {
      "image/png": "[encoded data removed]",
      "text/plain": [
       "<Figure size 432x288 with 1 Axes>"
      ]
     },
     "metadata": {
      "needs_background": "light"
     },
     "output_type": "display_data"
    }
   ],
   "source": [
    "print('Número de inscritos por edição\\n------------------------------')\n",
    "print('| 2016.1: %d' %(subs_num_2016_1))\n",
    "print('| 2016.2: %d' %(subs_num_2016_2))\n",
    "print('| 2017.1: %d' %(subs_num_2017_1))\n",
    "print('| 2017.2: %d' %(subs_num_2017_2))\n",
    "print('| 2018.1: %d' %(subs_num_2018_1))\n",
    "\n",
    "plt.bar(X_axys, Y_axys)"
   ]
  },
  {
   "cell_type": "code",
   "execution_count": null,
   "metadata": {},
   "outputs": [],
   "source": []
  }
 ],
 "metadata": {
  "kernelspec": {
   "display_name": "Python 3",
   "language": "python",
   "name": "python3"
  },
  "language_info": {
   "codemirror_mode": {
    "name": "ipython",
    "version": 3
   },
   "file_extension": ".py",
   "mimetype": "text/x-python",
   "name": "python",
   "nbconvert_exporter": "python",
   "pygments_lexer": "ipython3",
   "version": "3.6.8"
  }
 },
 "nbformat": 4,
 "nbformat_minor": 2
}
