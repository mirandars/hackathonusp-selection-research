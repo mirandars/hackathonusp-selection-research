{
 "cells": [
  {
   "cell_type": "markdown",
   "metadata": {},
   "source": [
    "# Testando modelo de Regressão Linear"
   ]
  },
  {
   "cell_type": "code",
   "execution_count": 83,
   "metadata": {},
   "outputs": [],
   "source": [
    "# Importanto bibliotecas necessárias\n",
    "import numpy as np\n",
    "import pandas as pd\n",
    "import matplotlib.pyplot as plt\n",
    "import datetime\n",
    "import calendar\n",
    "\n",
    "# Importa o modelo de regressão linear\n",
    "from sklearn.linear_model import LinearRegression\n",
    "from sklearn.preprocessing import LabelEncoder, OneHotEncoder, OrdinalEncoder"
   ]
  },
  {
   "cell_type": "code",
   "execution_count": 84,
   "metadata": {
    "scrolled": true
   },
   "outputs": [],
   "source": [
    "# Importando os dados das inscrições\n",
    "subs_total = pd.read_csv('Inscritos(Total).csv', sep=';')\n",
    "\n",
    "# Dados mais recentes para testar modelo\n",
    "subs_2018_2 = pd.read_csv('./2018.2/2018.2 - Inscritos.csv', sep=';')\n",
    "\n",
    "# Separando colunas\n",
    "X = subs_total.iloc[:, :-1].values  # independent variables\n",
    "Y = subs_total.iloc[:, -1:].values  # outcome to be predicted\n",
    "\n",
    "# Dados de 2018.2\n",
    "X_2018_2 = subs_2018_2.iloc[:, :-1].values\n",
    "Y_2018_2 = subs_2018_2.iloc[:, -1:].values\n",
    "\n",
    "# Para calculo da confussion matrix\n",
    "Y_2018_2 = [i[0] for i in Y_2018_2]"
   ]
  },
  {
   "cell_type": "markdown",
   "metadata": {},
   "source": [
    "As colunas das planilhas estão dispostas da seguinte forma:\n",
    "\n",
    "```\n",
    "Edição --- Carimbo de data/hora --- ID --- Gênero --- Qual a sua escola(...) --- Qual o seu curso(...) ---\n",
    "\n",
    "Em que ano você está? --- Você já participou de quantos hackathons? --- Qual a sua especialidade? ---\n",
    "\n",
    "Você já tem equipe formada? --- Time --- Selecionado\n",
    "```"
   ]
  },
  {
   "cell_type": "markdown",
   "metadata": {},
   "source": [
    "## Categorização de campos\n",
    "\n",
    "As colunas que precisam ser categorizadas são:\n",
    "\n",
    "- [x] `Carimbo de data/hora`\n",
    "- [x] `Gênero`\n",
    "- [x] `Qual a sua escola /faculdade /instituto?`\n",
    "- [x] `Qual o seu curso / programa de pós?`\n",
    "- [x] `Em que ano você está?`\n",
    "- [x] `Qual a sua especialidade?`\n",
    "- [x] `Você já tem equipe formada?`\n"
   ]
  },
  {
   "cell_type": "code",
   "execution_count": 85,
   "metadata": {
    "scrolled": true
   },
   "outputs": [],
   "source": [
    "############################\n",
    "#  Carimbo de data/hora    #\n",
    "############################\n",
    "\n",
    "first_sub_date = {\n",
    "    2016.1 : calendar.timegm(datetime.datetime.strptime(\"24/07/2016 20:53:04\", \"%d/%m/%Y %H:%M:%S\").utctimetuple()),\n",
    "    2016.2 : calendar.timegm(datetime.datetime.strptime(\"12/10/2016 21:01:35\", \"%d/%m/%Y %H:%M:%S\").utctimetuple()),\n",
    "    2017.1 : calendar.timegm(datetime.datetime.strptime(\"2017/07/19 9:03:16 PM\", \"%Y/%m/%d %I:%M:%S %p\").utctimetuple()),\n",
    "    2017.2 : calendar.timegm(datetime.datetime.strptime(\"18/10/2017 20:57:02\", \"%d/%m/%Y %H:%M:%S\").utctimetuple()),\n",
    "    2018.1 : calendar.timegm(datetime.datetime.strptime(\"16/05/2018 16:06:10\", \"%d/%m/%Y %H:%M:%S\").utctimetuple()),\n",
    "    2018.2 : calendar.timegm(datetime.datetime.strptime(\"18/10/2018 20:01:49\", \"%d/%m/%Y %H:%M:%S\").utctimetuple())\n",
    "}\n",
    "\n",
    "# Transformar as datas de inscrição em timestamps do UNIX\n",
    "for i in range(len(X)):\n",
    "    if (X[i][0] == 2017.1):\n",
    "        date = datetime.datetime.strptime(X[i][1], \"%Y/%m/%d %I:%M:%S %p \")\n",
    "    else:\n",
    "        date = datetime.datetime.strptime(X[i][1], \"%d/%m/%Y %H:%M:%S\")\n",
    "        \n",
    "    X[i][1] = calendar.timegm(date.utctimetuple()) - first_sub_date[X[i][0]]\n",
    "    \n",
    "for i in range(len(X_2018_2)):\n",
    "    date = datetime.datetime.strptime(X_2018_2[i][1], \"%d/%m/%Y %H:%M:%S\")\n",
    "    X_2018_2[i][1] = calendar.timegm(date.utctimetuple()) - first_sub_date[X_2018_2[i][0]]"
   ]
  },
  {
   "cell_type": "code",
   "execution_count": 86,
   "metadata": {},
   "outputs": [],
   "source": [
    "##############\n",
    "#  Gênero    #\n",
    "##############\n",
    "\n",
    "gender = {\n",
    "    'M': 1,\n",
    "    'F': 0\n",
    "}\n",
    "\n",
    "for i in range(len(X)):\n",
    "    X[i][3] = gender.get(X[i][3], 0)\n",
    "\n",
    "for i in range(len(X_2018_2)):\n",
    "    X_2018_2[i][3] = gender.get(X_2018_2[i][3], 0)"
   ]
  },
  {
   "cell_type": "code",
   "execution_count": 87,
   "metadata": {},
   "outputs": [],
   "source": [
    "#################################################\n",
    "#  Qual a sua escola / faculdade / instituto?   #\n",
    "#################################################\n",
    "\n",
    "institutes = {\n",
    "    'Escola Politécnica (Poli)' : 1,\n",
    "    'Instituto de Matemática e Estatística (IME)' : 2,\n",
    "    'Escola de Artes, Ciências e Humanidades (EACH)' : 3,\n",
    "    'Faculdade de Economia, Administração e Contabilidade (FEA)' : 4,\n",
    "    'Instituto de Ciências Matemáticas e de Computação (ICMC)' : 5,\n",
    "    'Escola de Engenharia de São Carlos (EESC)' : 6,\n",
    "    'Faculdade de Arquitetura e Urbanismo (FAU)' : 7,\n",
    "    'Instituto de Física (IF)' : 8,\n",
    "    'Faculdade de Economia, Administração e Contabilidade de Ribeirão Preto (FEA-RP)' : 9,\n",
    "    'Escola de Comunicações e Artes (ECA)' : 10,\n",
    "    'Faculdade de Ciências Farmacêuticas (FCF)' : 11,\n",
    "    'Faculdade de Direito (FD)' : 12,\n",
    "    'Faculdade de Filosofia, Letras e Ciências Humanas (FFLCH)' : 13,\n",
    "    'Instituto de Astronomia, Geofísica e Ciências Atmosféricas (IAG)' : 14,\n",
    "    'Escola de Engenharia de Lorena (EEL)' : 15,\n",
    "    'Curso de Ciências Moleculares (CCM)' : 16,\n",
    "    'Faculdade de Filosofia, Ciências e Letras de Ribeirão Preto (FFCLRP)' : 17,\n",
    "    'Instituto de Ciências Biomédicas (ICB)' : 18,\n",
    "    'Faculdade de Medicina de Ribeirão Preto (FMRP)' : 19,\n",
    "    'Instituto de Química (IQ)' : 20,\n",
    "    'Escola de Engenharia de São Carlos (EESC)' : 21,\n",
    "    'Escola de Engenharia de São Carlos (EESC) ' : 21,\n",
    "    'Faculdade de Odontologia (FO)' : 22,\n",
    "    'Faculdade de Saúde Pública (FSP)' : 23,\n",
    "    'Faculdade de Zootecnia e Engenharia de Alimentos (FZEA)' : 24,\n",
    "    'Instituto de Física de São Carlos (IFSC)' : 25,\n",
    "    'Instituto de Relações Internacionais (IRI)' : 26,\n",
    "    'Escola Superior de Agricultura “Luiz de Queiroz”' : 27\n",
    "}\n",
    "\n",
    "for i in range(len(X)):\n",
    "    X[i][4] = institutes.get(X[i][4], 0)\n",
    "    \n",
    "for i in range(len(X_2018_2)):\n",
    "    X_2018_2[i][4] = institutes.get(X_2018_2[i][4], 0)"
   ]
  },
  {
   "cell_type": "code",
   "execution_count": 88,
   "metadata": {},
   "outputs": [],
   "source": [
    "##########################################\n",
    "#  Qual o seu curso / programa de pós?   #\n",
    "##########################################\n",
    "\n",
    "courses = {\n",
    "    'Bacharelado em Ciência da Computação' : 1,\n",
    "    'Bacharelado em Ciência da computação' : 1,\n",
    "    'Bacharelado em CIência da Computação' : 1,\n",
    "    'Bacharelado em Ciências de Computação' : 1,\n",
    "    'Bacharelado em Sistemas de Informação' : 2,\n",
    "    'Engenharia Elétrica' : 3,\n",
    "    'Engenharia da Computação' : 4,\n",
    "    'Bacharelado em Administração' : 5,\n",
    "    'Bacharelado em Marketing' : 6,\n",
    "    'Bacharelado em Marketing ' : 6,\n",
    "    'Bacharelado em Matemática Aplicada e Computacional' : 7,\n",
    "    'Engenharia Mecatrônica' : 8,\n",
    "    'Engenharia Mecatrônica ' : 8,\n",
    "    'Bacharelado em Economia' : 9,\n",
    "    'Bacharelado em Economia ' : 9,\n",
    "    'Bacharelado em Economia ' : 9,\n",
    "    'Pós-graduação em Ciência da Computação' : 10,\n",
    "    'Bacharelado em Design' : 11,\n",
    "    'Bacharelado em Física' : 12,\n",
    "    'Bacharelado em Estatística' : 13,\n",
    "    'Bacharelado em Estatística ' : 13,\n",
    "    'Engenharia Mecânica' : 14,\n",
    "    'Engenharia de Produção' : 15,\n",
    "    'Engenharia de Produção ' : 15,\n",
    "    'Economia Empresarial e Controladoria' : 16,\n",
    "    'Economia Empresarial e Controladoria ' : 16,\n",
    "    'Curso de Ciências Moleculares' : 17,\n",
    "    'Publicidade e Propaganda' : 18,\n",
    "    'Pós-graduação em Engenharia da Computação' : 19,\n",
    "    'Engenharia Civil' : 20,\n",
    "    'Engenharia Química' : 21,\n",
    "    'Engenharia Química ' : 21,\n",
    "    'Direito' : 22,\n",
    "    'Informática Biomédica' : 23,\n",
    "    'Mestrado em Ciência da Computação' : 10,\n",
    "    'Ciências Contábeis' : 24,\n",
    "    'Bacharelado em Matemática Aplicada' : 25,\n",
    "    'Pós-graduação em Sistemas de Informação' : 26,\n",
    "    'Farmácia-Bioquímica' : 27,\n",
    "    'Mestrado em Sistemas de Informação' : 26,\n",
    "    'Engenharia de Materiais' : 28,\n",
    "    'Engenharia de Minas' : 29,\n",
    "    'Arquitetura e Urbanismo' : 30,\n",
    "    'Ciências Atuariais' : 31,\n",
    "    'Ciências Sociais' : 32,\n",
    "    'Bacharelado em Ciências da Computação' : 1,\n",
    "    'Big Data Inteligência na Gestão dos Dados' : 33,\n",
    "    'Doutorado em Ciência da Computação' : 34,\n",
    "    'Engenharia Ambiental' : 35,\n",
    "    'Gestão Ambiental' : 36,\n",
    "    'Engenharia Naval' : 37,\n",
    "    'Licenciatura em Matemática' : 38,\n",
    "    'Letras' : 39,\n",
    "    'Ciencias Biomédicas ' : 40,\n",
    "    'Engenharia' : 3,\n",
    "    'Contabilidade' : 24,\n",
    "    'Doutorado em Engenharia da Computação' : 41,\n",
    "    'Licenciatura em Ciências da Natureza' : 42,\n",
    "    'Relações Públicas' : 43,\n",
    "    'Engenharia Física' : 44,\n",
    "    'Bacharelado em Matemática' : 45,\n",
    "    'Bacharelado em Matemática ' : 45,\n",
    "    'Bacharelado em Matemática Pura' : 45,\n",
    "    'Segurança da Informação ' : 46,\n",
    "    'Ciências Econômicas' : 9,\n",
    "    'Filosofia' : 47,\n",
    "    'Pós-graduação em Empreendedorismo e Inovação' : 48,\n",
    "    'Pós-graduação em Sistemas Eletrônicos' : 49,\n",
    "    'Física Computacional' : 50,\n",
    "    'MBA - Tecnologia de Software' : 51,\n",
    "    'Pós-graduação em Engenharia Elétrica' : 52,\n",
    "    'Engenharia do Petróleo' : 53,\n",
    "    'Tecnologia de Software' : 54,\n",
    "    'Geofísica' : 55,\n",
    "    'Pós-graduação em Bioinformática' : 56,\n",
    "    'Farmácia e Bioquímica ' : 57,\n",
    "    'Farmácia e Bioquímica' : 57,\n",
    "    'Pós-graduacão em Sistemas de Informação' : 58,\n",
    "    'Gestão de Políticas Públicas' : 59,\n",
    "    'Gestão de Políticas Públicas ' : 59,\n",
    "    'Modelagem de Sistemas Complexos' : 60,\n",
    "    'Pós-graduação em Matemática Aplicada' : 61,\n",
    "    'Mestrado em Administração' : 62,\n",
    "    'Pós-graduação em Marketing' : 63,\n",
    "    'Pós-graduação em Administração de Organizações' : 64,\n",
    "    'Pós-graduação em Astronomia' : 65,\n",
    "    'MBA em IoT' : 51,\n",
    "    'Engenharia Aeronáutica ' : 66,\n",
    "    'Pós-graduação em Farmácia e Bioinformática' : 67,\n",
    "    'Fisiopatologia e Toxicologia' : 68,\n",
    "    'Doutorado em Administração ' : 69,\n",
    "    'Turismo' : 70,\n",
    "    'Pós-graduação em Administração' : 71,\n",
    "    'Pós-graduação em Tecnologia Nuclear ' : 72,\n",
    "    'Pós-graduação em Engenharia Mecânica' : 73,\n",
    "    'Pós-graduação em Engenharia Mecatrônica' : 74,\n",
    "    'PECE' : 75,\n",
    "    'Mestrado em Ciências' : 76,\n",
    "    'Mestrado em Ciência da Informação' : 77,\n",
    "    'Pós-doutorado em Astronomia' : 78,\n",
    "    'Pós-graduação em Ciências de Computação e Matemática Computacional' : 79,\n",
    "    'Mestrado Profissional Ambiente, Saúde e Sustentabilidade' : 80,\n",
    "    'Pedagogia' : 81,\n",
    "    'Pós-graduação em Engenharia Ambiental' : 82,\n",
    "    'Pós-graduação em Engenharia Química/ Tecnologia de Software' : 83,\n",
    "    'Pós-graduação em Inovação na Construção Civil' : 84,\n",
    "    'Engenharia de Biossistemas ' : 85,\n",
    "    'Bacharelado em Meteorologia' : 86,\n",
    "    'Pós-doutorado em Engenharia da Produção' : 87,\n",
    "    'Pós-graduação em Ciências Odontológicas' : 88,\n",
    "    'Pós-graduação em Física' : 89,\n",
    "    'Mestrado em Engenharia Mecatrônica' : 90,\n",
    "    'Análise e Desenvolvimento de Sistemas' : 91,\n",
    "    'Engenharia Bioquímica' : 92,\n",
    "    'Pós-graduação em Big Data' : 93,\n",
    "    'Especialização' : 94,\n",
    "    'Pós-graduação em Economia ' : 95,\n",
    "    'Engenharia Metalurgica' : 96,\n",
    "    'Engenharia e Gestão de Novos Produtos e Serviços ' : 97,\n",
    "    'Educação Física e Saúde' : 98,\n",
    "    'Música' : 99,\n",
    "    'Relações Internacionais' : 100,\n",
    "    'Linguística' : 101,\n",
    "    'Engenharia de Software' : 102,\n",
    "    'Pós-graduação em Tecnologia e Gestão na Produção de Edificios' : 103,\n",
    "    'Mestrado em Engenharia Elétrica' : 104,\n",
    "    'Bacharelado em Astronomia' : 105,\n",
    "}\n",
    "\n",
    "for i in range(len(X)):\n",
    "    X[i][5] = courses.get(X[i][5], 0)\n",
    "\n",
    "    \n",
    "for i in range(len(X_2018_2)):\n",
    "    X_2018_2[i][5] = courses.get(X_2018_2[i][5], 0)"
   ]
  },
  {
   "cell_type": "code",
   "execution_count": 89,
   "metadata": {},
   "outputs": [],
   "source": [
    "############################\n",
    "#  Em que ano você está?   #\n",
    "###########################\n",
    "\n",
    "years = {\n",
    "    '1º ano' : 1,\n",
    "    '2º ano' : 2,\n",
    "    '3º ano' : 3,\n",
    "    '4º ano' :4,\n",
    "    '5º ano' : 5,\n",
    "    '5º ano ou mais' : 5,\n",
    "    '6º ano ou mais' : 5,\n",
    "    'Pós-graduação' : 6,\n",
    "    'Doutorado' : 7\n",
    "}\n",
    "\n",
    "for i in range(len(X)):\n",
    "    X[i][6] = years.get(X[i][6], 0)\n",
    "    \n",
    "for i in range(len(X_2018_2)):\n",
    "    X_2018_2[i][6] = years.get(X_2018_2[i][6], 0)"
   ]
  },
  {
   "cell_type": "code",
   "execution_count": 90,
   "metadata": {},
   "outputs": [],
   "source": [
    "################################\n",
    "#  Qual a sua especialidade?   #\n",
    "################################\n",
    "\n",
    "specialties = {\n",
    "    'Desenvolvedor' : 1,\n",
    "    'Desenvolvedor/Designer' : 1,\n",
    "    'Desenvolvedor, Designer': 1,\n",
    "    'Desenvolvedor/Negócios' : 1,\n",
    "    'Desenvolvedor, Negócios' : 1,\n",
    "    'Negócios e Desenvolvedor' : 1,\n",
    "    'Empreendedor/Negócios' : 2,\n",
    "    'Negócios': 2,\n",
    "    'Designer' : 3,\n",
    "    'Designer/Negócios' : 3,\n",
    "    'Designer, Negócios' : 3,\n",
    "    'Cientista de Dados' : 4,\n",
    "    'Nenhuma' : 5,\n",
    "    'Estudante' : 5,\n",
    "    'Marketing' : 6,\n",
    "    'Engenharia' : 7,\n",
    "    'Comunicação/Publicidade' : 8,\n",
    "    'Comunicação digital' : 8,\n",
    "    'Pesquisador' : 9,\n",
    "    'Quimica' : 10,\n",
    "    'Farmácia' : 11,\n",
    "    'Analista' : 12,\n",
    "    'Gestão de Projetos' : 13,\n",
    "    'Mentoria' : 14,\n",
    "    'Finanças': 15,\n",
    "    'Cientista de Dados, Finanças': 15,\n",
    "    'Desenvolvedor, Finanças': 15\n",
    "}\n",
    "\n",
    "for i in range(len(X)):    \n",
    "    X[i][8] = specialties.get(X[i][8], 0)\n",
    "    \n",
    "for i in range(len(X_2018_2)):\n",
    "    X_2018_2[i][8] = specialties.get(X_2018_2[i][8], 0)"
   ]
  },
  {
   "cell_type": "code",
   "execution_count": 91,
   "metadata": {
    "scrolled": true
   },
   "outputs": [],
   "source": [
    "##################################\n",
    "#  Você já tem equipe formada?   #\n",
    "##################################\n",
    "\n",
    "has_team = {\n",
    "    'Sim': 1,\n",
    "    'Não': 0\n",
    "}\n",
    "\n",
    "for i in range(len(X)):\n",
    "    X[i][9] = has_team.get(X[i][9], 0)\n",
    "    \n",
    "for i in range(len(X_2018_2)):\n",
    "    X_2018_2[i][9] = has_team.get(X_2018_2[i][9], 0)"
   ]
  },
  {
   "cell_type": "code",
   "execution_count": 92,
   "metadata": {},
   "outputs": [],
   "source": [
    "###################\n",
    "#  Selecionado    #\n",
    "###################\n",
    "\n",
    "selected = {\n",
    "    'S' : 1,\n",
    "    'N' : 0\n",
    "}\n",
    "\n",
    "for i in range(len(Y)):\n",
    "    Y[i][0] = selected.get(Y[i][0], 0)"
   ]
  },
  {
   "cell_type": "markdown",
   "metadata": {},
   "source": [
    "## Treino e teste do modelo"
   ]
  },
  {
   "cell_type": "markdown",
   "metadata": {},
   "source": [
    "### Utilizando _cross-validation_"
   ]
  },
  {
   "cell_type": "code",
   "execution_count": 93,
   "metadata": {},
   "outputs": [
    {
     "name": "stdout",
     "output_type": "stream",
     "text": [
      "Set 1: \n",
      "Accuracy: -0.09122\n",
      "\n",
      "Set 2: \n",
      "Accuracy: -0.10887\n",
      "\n",
      "Set 3: \n",
      "Accuracy: -0.06990\n",
      "\n",
      "Set 4: \n",
      "Accuracy: -0.03569\n",
      "\n",
      "Set 5: \n",
      "Accuracy: 0.07022\n",
      "\n",
      "Set 6: \n",
      "Accuracy: 0.26676\n",
      "\n",
      "Set 7: \n",
      "Accuracy: 0.01221\n",
      "\n",
      "Set 8: \n",
      "Accuracy: -0.13103\n",
      "\n",
      "Set 9: \n",
      "Accuracy: -1.05245\n",
      "\n",
      "Set 10: \n",
      "Accuracy: 0.24331\n",
      "\n",
      "Resultado médio:\n",
      "Accuracy: -0.08967 (+/- 0.69461)\n"
     ]
    }
   ],
   "source": [
    "from sklearn.model_selection import cross_val_score\n",
    "\n",
    "regressor = LinearRegression()\n",
    "\n",
    "scores = cross_val_score(regressor, X, Y, cv=10)\n",
    "\n",
    "for i in range(len(scores)):\n",
    "    print(\"Set %d: \\nAccuracy: %0.5f\\n\" %(i+1, scores[i]))\n",
    "\n",
    "print(\"Resultado médio:\")\n",
    "print(\"Accuracy: %0.5f (+/- %0.5f)\" % (scores.mean(), scores.std() * 2))"
   ]
  },
  {
   "cell_type": "markdown",
   "metadata": {},
   "source": [
    "### Utilizando `train_test_split`"
   ]
  },
  {
   "cell_type": "code",
   "execution_count": 94,
   "metadata": {},
   "outputs": [],
   "source": [
    "from sklearn.model_selection import train_test_split\n",
    "X_train, X_test, y_train, y_test = train_test_split(X, Y, test_size = 0.2)"
   ]
  },
  {
   "cell_type": "code",
   "execution_count": 95,
   "metadata": {
    "scrolled": false
   },
   "outputs": [
    {
     "name": "stdout",
     "output_type": "stream",
     "text": [
      "[[136  28]\n",
      " [ 50  47]]\n",
      "Sensitivity: \n",
      "0.7311827956989247\n",
      "-------------\n",
      "Accuracy: \n",
      "0.7011494252873564\n"
     ]
    }
   ],
   "source": [
    "from sklearn.linear_model import LinearRegression\n",
    "from sklearn.metrics import accuracy_score\n",
    "regressor = LinearRegression()\n",
    "regressor.fit(X_train, y_train)\n",
    "\n",
    "# Predicting the Test set results\n",
    "y_pred = regressor.predict(X_test)\n",
    "\n",
    "y_pred = [i[0] for i in y_pred]\n",
    "\n",
    "y_pred_sort = np.sort(y_pred)\n",
    "\n",
    "y_cut = y_pred_sort[-75:]\n",
    "        \n",
    "y_pred = [1 if i >= y_cut[0] else 0 for i in y_pred]\n",
    "\n",
    "y_test = [i[0] for i in y_test]\n",
    "    \n",
    "from sklearn.metrics import confusion_matrix\n",
    "cm = confusion_matrix(y_test, y_pred)\n",
    "\n",
    "print(cm)\n",
    "\n",
    "sens = cm[0][0] / (cm[0][0] + cm[1][0])\n",
    "acc = (cm[0][0] + cm[1][1]) / (cm[0][0] + cm[1][1] + cm[0][1] + cm[1][0])\n",
    "\n",
    "print('Sensitivity: ')\n",
    "print(sens)\n",
    "print('-------------')\n",
    "print('Accuracy: ')\n",
    "print(acc)"
   ]
  },
  {
   "cell_type": "code",
   "execution_count": 96,
   "metadata": {},
   "outputs": [
    {
     "name": "stdout",
     "output_type": "stream",
     "text": [
      "Normalized confusion matrix\n",
      "[[0.82926829 0.17073171]\n",
      " [0.51546392 0.48453608]]\n"
     ]
    },
    {
     "data": {
      "image/png": "[encoded data removed]",
      "text/plain": [
       "<Figure size 432x288 with 2 Axes>"
      ]
     },
     "metadata": {
      "needs_background": "light"
     },
     "output_type": "display_data"
    }
   ],
   "source": [
    "import itertools\n",
    "\n",
    "def plot_confusion_matrix(cm, classes,\n",
    "                          normalize=False,\n",
    "                          title='Confusion matrix',\n",
    "                          cmap=plt.cm.Blues):\n",
    "    \"\"\"\n",
    "    This function prints and plots the confusion matrix.\n",
    "    Normalization can be applied by setting `normalize=True`.\n",
    "    \"\"\"\n",
    "    if normalize:\n",
    "        cm = cm.astype('float') / cm.sum(axis=1)[:, np.newaxis]\n",
    "        print(\"Normalized confusion matrix\")\n",
    "    else:\n",
    "        print('Confusion matrix, without normalization')\n",
    "\n",
    "    print(cm)\n",
    "\n",
    "    plt.imshow(cm, interpolation='nearest', cmap=cmap)\n",
    "    plt.title(title)\n",
    "    plt.colorbar()\n",
    "    tick_marks = np.arange(len(classes))\n",
    "    plt.xticks(tick_marks, classes, rotation=45)\n",
    "    plt.yticks(tick_marks, classes)\n",
    "\n",
    "    fmt = '.2f' if normalize else 'd'\n",
    "    thresh = cm.max() / 2.\n",
    "    for i, j in itertools.product(range(cm.shape[0]), range(cm.shape[1])):\n",
    "        plt.text(j, i, format(cm[i, j], fmt),\n",
    "                 horizontalalignment=\"center\",\n",
    "                 color=\"white\" if cm[i, j] > thresh else \"black\")\n",
    "\n",
    "    plt.ylabel('True label')\n",
    "    plt.xlabel('Predicted label')\n",
    "    plt.tight_layout()\n",
    "    \n",
    "# Plot normalized confusion matrix\n",
    "plt.figure()\n",
    "plot_confusion_matrix(cm, classes=['Aceito', 'Rejeitado'], normalize=True,\n",
    "                      title='Normalized Confusion Matrix')\n",
    "\n",
    "plt.savefig('linear_regression.png')\n",
    "plt.show()"
   ]
  },
  {
   "cell_type": "markdown",
   "metadata": {},
   "source": [
    "## Testando modelo contra seleção da edição 2018.2"
   ]
  },
  {
   "cell_type": "code",
   "execution_count": 97,
   "metadata": {},
   "outputs": [
    {
     "name": "stdout",
     "output_type": "stream",
     "text": [
      "Sensitivity: \n",
      "0.3125\n",
      "-------------\n",
      "Accuracy: \n",
      "0.36538461538461536\n"
     ]
    }
   ],
   "source": [
    "from sklearn.linear_model import LinearRegression\n",
    "from sklearn.metrics import accuracy_score\n",
    "regressor = LinearRegression()\n",
    "regressor.fit(X_train, y_train)\n",
    "\n",
    "# Predicting the Test set results\n",
    "y_pred = regressor.predict(X_2018_2)\n",
    "\n",
    "y_pred_sort = np.sort(y_pred)\n",
    "\n",
    "y_cut = y_pred_sort[-110:]\n",
    "        \n",
    "y_pred = [1 if i >= y_cut[0] else 0 for i in y_pred]\n",
    "\n",
    "from sklearn.metrics import confusion_matrix\n",
    "cm_2018_2 = confusion_matrix(Y_2018_2, y_pred)\n",
    "\n",
    "sens = cm_2018_2[0][0] / (cm_2018_2[0][0] + cm_2018_2[1][0])\n",
    "acc = (cm_2018_2[0][0] + cm_2018_2[1][1]) / (cm_2018_2[0][0] + cm_2018_2[1][1] + cm_2018_2[0][1] + cm_2018_2[1][0])\n",
    "\n",
    "print('Sensitivity: ')\n",
    "print(sens)\n",
    "print('-------------')\n",
    "print('Accuracy: ')\n",
    "print(acc)"
   ]
  },
  {
   "cell_type": "code",
   "execution_count": 98,
   "metadata": {},
   "outputs": [
    {
     "name": "stdout",
     "output_type": "stream",
     "text": [
      "Confusion matrix, without normalization\n",
      "[[45  0]\n",
      " [99 12]]\n"
     ]
    },
    {
     "data": {
      "image/png": "[encoded data removed]",
      "text/plain": [
       "<Figure size 432x288 with 2 Axes>"
      ]
     },
     "metadata": {
      "needs_background": "light"
     },
     "output_type": "display_data"
    }
   ],
   "source": [
    "plt.figure()\n",
    "plot_confusion_matrix(cm_2018_2, classes=['Rejeitado', 'Aceito'], normalize=False,\n",
    "                      title='Normalized confusion matrix')\n",
    "\n",
    "plt.show()"
   ]
  },
  {
   "cell_type": "code",
   "execution_count": null,
   "metadata": {},
   "outputs": [],
   "source": []
  }
 ],
 "metadata": {
  "kernelspec": {
   "display_name": "Python 3",
   "language": "python",
   "name": "python3"
  },
  "language_info": {
   "codemirror_mode": {
    "name": "ipython",
    "version": 3
   },
   "file_extension": ".py",
   "mimetype": "text/x-python",
   "name": "python",
   "nbconvert_exporter": "python",
   "pygments_lexer": "ipython3",
   "version": "3.6.8"
  }
 },
 "nbformat": 4,
 "nbformat_minor": 2
}
